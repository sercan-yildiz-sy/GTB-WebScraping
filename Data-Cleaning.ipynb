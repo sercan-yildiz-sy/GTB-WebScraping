{
 "cells": [
  {
   "cell_type": "code",
   "execution_count": 1,
   "id": "aca0bce8",
   "metadata": {},
   "outputs": [],
   "source": [
    "import requests\n",
    "import json\n",
    "from bs4 import BeautifulSoup\n",
    "\n",
    "# This script scrapes the Istanbul University newspaper archive using BeautifulSoup and saves the dates and URLs of newspapers in a JSON file.\n",
    "\n",
    "# The main page is fetched and parsed to find newspaper names and their URLs.\n",
    "main_page = requests.get('https://nek.istanbul.edu.tr/ekos/GAZETE/').text\n",
    "soup = BeautifulSoup(main_page, 'html.parser')\n",
    "\n",
    "# Extracting newspaper names\n",
    "newspapers = []\n",
    "for names in soup.find_all('span', class_='caption mb-2 d-block'):\n",
    "    newspapers.append(names.get_text(strip = True))\n",
    "\n",
    "# Extracting newspaper URLs\n",
    "links = []\n",
    "for link in soup.find_all('a'):\n",
    "    li = link.get('href')\n",
    "    if li[0] == \"g\":\n",
    "        links.append(li)\n",
    "\n",
    "newspapersDict = {}\n",
    "# The script iterates through the list of newspapers and scrapes each newspaper's page for dates and URLs and saves them in a dictionary.\n",
    "for i in range(len(newspapers)):\n",
    "    newspaperPage = requests.get('https://nek.istanbul.edu.tr/ekos/GAZETE/' + links[i]).text\n",
    "    soup2 = BeautifulSoup(newspaperPage, 'html.parser')\n",
    "    dates = []\n",
    "    urls = []\n",
    "    for date in soup2.find_all('td', class_='tm-text-left'):\n",
    "        dates.append(date.get_text(strip = True))\n",
    "\n",
    "    for url in soup2.find_all('a', href=True):\n",
    "        if url['href'].endswith('.pdf'):\n",
    "            urls.append(url['href'])\n",
    "\n",
    "    newspapersDict[newspapers[i]] = list(zip(dates, urls))"
   ]
  },
  {
   "cell_type": "code",
   "execution_count": 2,
   "id": "a5b2896a",
   "metadata": {},
   "outputs": [],
   "source": [
    "import requests\n",
    "import json\n",
    "from bs4 import BeautifulSoup"
   ]
  },
  {
   "cell_type": "code",
   "execution_count": 3,
   "id": "f17acd54",
   "metadata": {},
   "outputs": [
    {
     "ename": "SyntaxError",
     "evalue": "(unicode error) 'unicodeescape' codec can't decode bytes in position 2-3: truncated \\UXXXXXXXX escape (3159810845.py, line 1)",
     "output_type": "error",
     "traceback": [
      "  \u001b[36mCell\u001b[39m\u001b[36m \u001b[39m\u001b[32mIn[3]\u001b[39m\u001b[32m, line 1\u001b[39m\n\u001b[31m    \u001b[39m\u001b[31mwith open(\"C:\\Users\\Serca\\source\\repos\\aasd\\newspapers_bs4.json\",'r') as f:\u001b[39m\n              ^\n\u001b[31mSyntaxError\u001b[39m\u001b[31m:\u001b[39m (unicode error) 'unicodeescape' codec can't decode bytes in position 2-3: truncated \\UXXXXXXXX escape\n"
     ]
    }
   ],
   "source": [
    "with open(\"C:\\Users\\Serca\\source\\repos\\aasd\\newspapers_bs4.json\",'r') as f:\n",
    "    newspapersDict = json.load(f)"
   ]
  },
  {
   "cell_type": "code",
   "execution_count": null,
   "id": "547f1f5f",
   "metadata": {},
   "outputs": [],
   "source": []
  }
 ],
 "metadata": {
  "kernelspec": {
   "display_name": "Python 3",
   "language": "python",
   "name": "python3"
  },
  "language_info": {
   "codemirror_mode": {
    "name": "ipython",
    "version": 3
   },
   "file_extension": ".py",
   "mimetype": "text/x-python",
   "name": "python",
   "nbconvert_exporter": "python",
   "pygments_lexer": "ipython3",
   "version": "3.12.2"
  }
 },
 "nbformat": 4,
 "nbformat_minor": 5
}
